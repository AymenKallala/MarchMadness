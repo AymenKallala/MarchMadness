{
 "cells": [
  {
   "cell_type": "markdown",
   "metadata": {},
   "source": [
    "# 0.0 Import Librairies"
   ]
  },
  {
   "cell_type": "code",
   "execution_count": 1,
   "metadata": {},
   "outputs": [],
   "source": [
    "import os\n",
    "import re\n",
    "import sklearn\n",
    "import numpy as np \n",
    "import pandas as pd\n",
    "import seaborn as sns\n",
    "import matplotlib.pyplot as plt\n",
    "from sklearn.model_selection import train_test_split\n",
    "import eli5\n",
    "from sklearn.neighbors import KNeighborsClassifier\n",
    "from sklearn import svm\n",
    "from sklearn.svm import SVC\n",
    "from sklearn.neural_network import MLPClassifier\n",
    "from sklearn.ensemble import AdaBoostClassifier\n",
    "from sklearn.ensemble import RandomForestClassifier\n",
    "from sklearn.naive_bayes import GaussianNB, MultinomialNB, ComplementNB, BernoulliNB\n",
    "from sklearn.discriminant_analysis import LinearDiscriminantAnalysis\n",
    "from sklearn.linear_model import LogisticRegression\n",
    "from sklearn.preprocessing import PolynomialFeatures, StandardScaler\n",
    "from xgboost import XGBClassifier\n",
    "from sklearn.preprocessing import PowerTransformer\n",
    "from sklearn.pipeline import make_pipeline\n",
    "from sklearn.feature_selection import SelectKBest, f_classif\n",
    "from sklearn.ensemble import RandomForestRegressor\n",
    "from sklearn.ensemble import RandomForestClassifier\n",
    "from sklearn.model_selection import GridSearchCV\n",
    "from sklearn.metrics import accuracy_score, f1_score\n",
    "from sklearn.metrics import DetCurveDisplay, RocCurveDisplay\n",
    "from sklearn.metrics import roc_auc_score\n",
    "from sklearn.metrics import r2_score\n",
    "\n",
    "from sklearn import metrics\n",
    "\n",
    "\n",
    "\n",
    "\n"
   ]
  },
  {
   "cell_type": "markdown",
   "metadata": {},
   "source": [
    "# 0.1 Load the data"
   ]
  },
  {
   "cell_type": "code",
   "execution_count": 2,
   "metadata": {},
   "outputs": [],
   "source": [
    "DATA_PATH = 'MDataFiles_Stage1/'"
   ]
  },
  {
   "cell_type": "code",
   "execution_count": 3,
   "metadata": {},
   "outputs": [],
   "source": [
    "seeds = pd.read_csv(DATA_PATH + 'MNCAATourneySeeds.csv')\n",
    "df_season_results = pd.read_csv(DATA_PATH + 'MRegularSeasonDetailedResults.csv')\n",
    "df_massey = pd.read_csv(DATA_PATH + \"MMasseyOrdinals.csv\")\n",
    "df_massey = df_massey[df_massey['RankingDayNum'] == 133].drop('RankingDayNum', axis=1).reset_index(drop=True)"
   ]
  },
  {
   "cell_type": "markdown",
   "metadata": {},
   "source": [
    "# 1.1 Computing the average stats of each team during all the regular season they competed in"
   ]
  },
  {
   "cell_type": "code",
   "execution_count": 4,
   "metadata": {},
   "outputs": [],
   "source": [
    "def prepare_data(df):\n",
    "    win_df = df.copy()\n",
    "    lose_df = df.copy()\n",
    "    win_df.columns = [x.replace('W','T1_').replace('L','T2_') for x in list(win_df.columns)]\n",
    "    lose_df.columns = [x.replace('W','T2_').replace('L','T1_') for x in list(lose_df.columns)]\n",
    "\n",
    "    return pd.concat([win_df, lose_df], 0, sort=False)\n",
    "    \n"
   ]
  },
  {
   "cell_type": "markdown",
   "metadata": {},
   "source": [
    "A function that will be very usefull several times for us."
   ]
  },
  {
   "cell_type": "code",
   "execution_count": 5,
   "metadata": {},
   "outputs": [],
   "source": [
    "df_avg_stats = df_season_results.drop(['WLoc','NumOT'],axis = 1)\n",
    "df_avg_stats['ScoreMargin'] = df_season_results['WScore'] - df_season_results['LScore']"
   ]
  },
  {
   "cell_type": "code",
   "execution_count": 6,
   "metadata": {},
   "outputs": [
    {
     "name": "stderr",
     "output_type": "stream",
     "text": [
      "/var/folders/3s/2snw8txj0118w4h7_5ldjpp80000gn/T/ipykernel_96489/1355792495.py:7: FutureWarning: In a future version of pandas all arguments of concat except for the argument 'objs' will be keyword-only\n",
      "  return pd.concat([win_df, lose_df], 0, sort=False)\n"
     ]
    }
   ],
   "source": [
    "df_avg_stats = prepare_data(df_avg_stats)"
   ]
  },
  {
   "cell_type": "code",
   "execution_count": 7,
   "metadata": {},
   "outputs": [],
   "source": [
    "df_avg_stats= df_avg_stats.groupby(['Season','T1_TeamID']).mean().reset_index()"
   ]
  },
  {
   "cell_type": "markdown",
   "metadata": {},
   "source": [
    "We just need the stats of the team we are looking at, so let's drop the useless columns."
   ]
  },
  {
   "cell_type": "code",
   "execution_count": 8,
   "metadata": {},
   "outputs": [],
   "source": [
    "df_avg_stats.drop(['DayNum', 'T1_Score', 'T2_TeamID', 'T2_Score','T2_FGM', 'T2_FGA',\n",
    "       'T2_FGM3', 'T2_FGA3', 'T2_FTM', 'T2_FTA', 'T2_OR', 'T2_DR', 'T2_Ast',\n",
    "       'T2_TO', 'T2_Stl', 'T2_Blk', 'T2_PF', 'ScoreMargin'],axis = 1, inplace = True)"
   ]
  },
  {
   "cell_type": "code",
   "execution_count": 9,
   "metadata": {},
   "outputs": [
    {
     "data": {
      "text/html": [
       "<div>\n",
       "<style scoped>\n",
       "    .dataframe tbody tr th:only-of-type {\n",
       "        vertical-align: middle;\n",
       "    }\n",
       "\n",
       "    .dataframe tbody tr th {\n",
       "        vertical-align: top;\n",
       "    }\n",
       "\n",
       "    .dataframe thead th {\n",
       "        text-align: right;\n",
       "    }\n",
       "</style>\n",
       "<table border=\"1\" class=\"dataframe\">\n",
       "  <thead>\n",
       "    <tr style=\"text-align: right;\">\n",
       "      <th></th>\n",
       "      <th>Season</th>\n",
       "      <th>T1_TeamID</th>\n",
       "      <th>T1_FGM</th>\n",
       "      <th>T1_FGA</th>\n",
       "      <th>T1_FGM3</th>\n",
       "      <th>T1_FGA3</th>\n",
       "      <th>T1_FTM</th>\n",
       "      <th>T1_FTA</th>\n",
       "      <th>T1_OR</th>\n",
       "      <th>T1_DR</th>\n",
       "      <th>T1_Ast</th>\n",
       "      <th>T1_TO</th>\n",
       "      <th>T1_Stl</th>\n",
       "      <th>T1_Blk</th>\n",
       "      <th>T1_PF</th>\n",
       "    </tr>\n",
       "  </thead>\n",
       "  <tbody>\n",
       "    <tr>\n",
       "      <th>0</th>\n",
       "      <td>2003</td>\n",
       "      <td>1102</td>\n",
       "      <td>19.142857</td>\n",
       "      <td>39.785714</td>\n",
       "      <td>7.821429</td>\n",
       "      <td>20.821429</td>\n",
       "      <td>11.142857</td>\n",
       "      <td>17.107143</td>\n",
       "      <td>4.178571</td>\n",
       "      <td>16.821429</td>\n",
       "      <td>13.000000</td>\n",
       "      <td>11.428571</td>\n",
       "      <td>5.964286</td>\n",
       "      <td>1.785714</td>\n",
       "      <td>18.750000</td>\n",
       "    </tr>\n",
       "    <tr>\n",
       "      <th>1</th>\n",
       "      <td>2003</td>\n",
       "      <td>1103</td>\n",
       "      <td>27.148148</td>\n",
       "      <td>55.851852</td>\n",
       "      <td>5.444444</td>\n",
       "      <td>16.074074</td>\n",
       "      <td>19.037037</td>\n",
       "      <td>25.851852</td>\n",
       "      <td>9.777778</td>\n",
       "      <td>19.925926</td>\n",
       "      <td>15.222222</td>\n",
       "      <td>12.629630</td>\n",
       "      <td>7.259259</td>\n",
       "      <td>2.333333</td>\n",
       "      <td>19.851852</td>\n",
       "    </tr>\n",
       "    <tr>\n",
       "      <th>2</th>\n",
       "      <td>2003</td>\n",
       "      <td>1104</td>\n",
       "      <td>24.035714</td>\n",
       "      <td>57.178571</td>\n",
       "      <td>6.357143</td>\n",
       "      <td>19.857143</td>\n",
       "      <td>14.857143</td>\n",
       "      <td>20.928571</td>\n",
       "      <td>13.571429</td>\n",
       "      <td>23.928571</td>\n",
       "      <td>12.107143</td>\n",
       "      <td>13.285714</td>\n",
       "      <td>6.607143</td>\n",
       "      <td>3.785714</td>\n",
       "      <td>18.035714</td>\n",
       "    </tr>\n",
       "    <tr>\n",
       "      <th>3</th>\n",
       "      <td>2003</td>\n",
       "      <td>1105</td>\n",
       "      <td>24.384615</td>\n",
       "      <td>61.615385</td>\n",
       "      <td>7.576923</td>\n",
       "      <td>20.769231</td>\n",
       "      <td>15.423077</td>\n",
       "      <td>21.846154</td>\n",
       "      <td>13.500000</td>\n",
       "      <td>23.115385</td>\n",
       "      <td>14.538462</td>\n",
       "      <td>18.653846</td>\n",
       "      <td>9.307692</td>\n",
       "      <td>2.076923</td>\n",
       "      <td>20.230769</td>\n",
       "    </tr>\n",
       "    <tr>\n",
       "      <th>4</th>\n",
       "      <td>2003</td>\n",
       "      <td>1106</td>\n",
       "      <td>23.428571</td>\n",
       "      <td>55.285714</td>\n",
       "      <td>6.107143</td>\n",
       "      <td>17.642857</td>\n",
       "      <td>10.642857</td>\n",
       "      <td>16.464286</td>\n",
       "      <td>12.285714</td>\n",
       "      <td>23.857143</td>\n",
       "      <td>11.678571</td>\n",
       "      <td>17.035714</td>\n",
       "      <td>8.357143</td>\n",
       "      <td>3.142857</td>\n",
       "      <td>18.178571</td>\n",
       "    </tr>\n",
       "    <tr>\n",
       "      <th>...</th>\n",
       "      <td>...</td>\n",
       "      <td>...</td>\n",
       "      <td>...</td>\n",
       "      <td>...</td>\n",
       "      <td>...</td>\n",
       "      <td>...</td>\n",
       "      <td>...</td>\n",
       "      <td>...</td>\n",
       "      <td>...</td>\n",
       "      <td>...</td>\n",
       "      <td>...</td>\n",
       "      <td>...</td>\n",
       "      <td>...</td>\n",
       "      <td>...</td>\n",
       "      <td>...</td>\n",
       "    </tr>\n",
       "    <tr>\n",
       "      <th>6887</th>\n",
       "      <td>2022</td>\n",
       "      <td>1468</td>\n",
       "      <td>25.050000</td>\n",
       "      <td>54.850000</td>\n",
       "      <td>7.150000</td>\n",
       "      <td>22.100000</td>\n",
       "      <td>9.350000</td>\n",
       "      <td>12.550000</td>\n",
       "      <td>5.900000</td>\n",
       "      <td>20.650000</td>\n",
       "      <td>13.300000</td>\n",
       "      <td>9.750000</td>\n",
       "      <td>4.850000</td>\n",
       "      <td>1.600000</td>\n",
       "      <td>16.050000</td>\n",
       "    </tr>\n",
       "    <tr>\n",
       "      <th>6888</th>\n",
       "      <td>2022</td>\n",
       "      <td>1469</td>\n",
       "      <td>24.105263</td>\n",
       "      <td>58.473684</td>\n",
       "      <td>6.473684</td>\n",
       "      <td>21.631579</td>\n",
       "      <td>14.842105</td>\n",
       "      <td>21.473684</td>\n",
       "      <td>8.736842</td>\n",
       "      <td>23.631579</td>\n",
       "      <td>14.631579</td>\n",
       "      <td>15.052632</td>\n",
       "      <td>6.210526</td>\n",
       "      <td>2.315789</td>\n",
       "      <td>19.842105</td>\n",
       "    </tr>\n",
       "    <tr>\n",
       "      <th>6889</th>\n",
       "      <td>2022</td>\n",
       "      <td>1470</td>\n",
       "      <td>22.619048</td>\n",
       "      <td>54.904762</td>\n",
       "      <td>5.142857</td>\n",
       "      <td>16.666667</td>\n",
       "      <td>13.047619</td>\n",
       "      <td>17.571429</td>\n",
       "      <td>7.380952</td>\n",
       "      <td>19.095238</td>\n",
       "      <td>10.142857</td>\n",
       "      <td>10.190476</td>\n",
       "      <td>8.190476</td>\n",
       "      <td>2.142857</td>\n",
       "      <td>18.380952</td>\n",
       "    </tr>\n",
       "    <tr>\n",
       "      <th>6890</th>\n",
       "      <td>2022</td>\n",
       "      <td>1471</td>\n",
       "      <td>22.700000</td>\n",
       "      <td>52.400000</td>\n",
       "      <td>8.100000</td>\n",
       "      <td>23.700000</td>\n",
       "      <td>13.600000</td>\n",
       "      <td>18.600000</td>\n",
       "      <td>4.800000</td>\n",
       "      <td>21.950000</td>\n",
       "      <td>11.950000</td>\n",
       "      <td>13.250000</td>\n",
       "      <td>5.500000</td>\n",
       "      <td>1.600000</td>\n",
       "      <td>15.050000</td>\n",
       "    </tr>\n",
       "    <tr>\n",
       "      <th>6891</th>\n",
       "      <td>2022</td>\n",
       "      <td>1472</td>\n",
       "      <td>26.105263</td>\n",
       "      <td>60.000000</td>\n",
       "      <td>10.736842</td>\n",
       "      <td>30.052632</td>\n",
       "      <td>9.789474</td>\n",
       "      <td>12.631579</td>\n",
       "      <td>5.736842</td>\n",
       "      <td>19.368421</td>\n",
       "      <td>11.842105</td>\n",
       "      <td>7.947368</td>\n",
       "      <td>4.842105</td>\n",
       "      <td>1.157895</td>\n",
       "      <td>17.000000</td>\n",
       "    </tr>\n",
       "  </tbody>\n",
       "</table>\n",
       "<p>6892 rows × 15 columns</p>\n",
       "</div>"
      ],
      "text/plain": [
       "      Season  T1_TeamID     T1_FGM     T1_FGA    T1_FGM3    T1_FGA3  \\\n",
       "0       2003       1102  19.142857  39.785714   7.821429  20.821429   \n",
       "1       2003       1103  27.148148  55.851852   5.444444  16.074074   \n",
       "2       2003       1104  24.035714  57.178571   6.357143  19.857143   \n",
       "3       2003       1105  24.384615  61.615385   7.576923  20.769231   \n",
       "4       2003       1106  23.428571  55.285714   6.107143  17.642857   \n",
       "...      ...        ...        ...        ...        ...        ...   \n",
       "6887    2022       1468  25.050000  54.850000   7.150000  22.100000   \n",
       "6888    2022       1469  24.105263  58.473684   6.473684  21.631579   \n",
       "6889    2022       1470  22.619048  54.904762   5.142857  16.666667   \n",
       "6890    2022       1471  22.700000  52.400000   8.100000  23.700000   \n",
       "6891    2022       1472  26.105263  60.000000  10.736842  30.052632   \n",
       "\n",
       "         T1_FTM     T1_FTA      T1_OR      T1_DR     T1_Ast      T1_TO  \\\n",
       "0     11.142857  17.107143   4.178571  16.821429  13.000000  11.428571   \n",
       "1     19.037037  25.851852   9.777778  19.925926  15.222222  12.629630   \n",
       "2     14.857143  20.928571  13.571429  23.928571  12.107143  13.285714   \n",
       "3     15.423077  21.846154  13.500000  23.115385  14.538462  18.653846   \n",
       "4     10.642857  16.464286  12.285714  23.857143  11.678571  17.035714   \n",
       "...         ...        ...        ...        ...        ...        ...   \n",
       "6887   9.350000  12.550000   5.900000  20.650000  13.300000   9.750000   \n",
       "6888  14.842105  21.473684   8.736842  23.631579  14.631579  15.052632   \n",
       "6889  13.047619  17.571429   7.380952  19.095238  10.142857  10.190476   \n",
       "6890  13.600000  18.600000   4.800000  21.950000  11.950000  13.250000   \n",
       "6891   9.789474  12.631579   5.736842  19.368421  11.842105   7.947368   \n",
       "\n",
       "        T1_Stl    T1_Blk      T1_PF  \n",
       "0     5.964286  1.785714  18.750000  \n",
       "1     7.259259  2.333333  19.851852  \n",
       "2     6.607143  3.785714  18.035714  \n",
       "3     9.307692  2.076923  20.230769  \n",
       "4     8.357143  3.142857  18.178571  \n",
       "...        ...       ...        ...  \n",
       "6887  4.850000  1.600000  16.050000  \n",
       "6888  6.210526  2.315789  19.842105  \n",
       "6889  8.190476  2.142857  18.380952  \n",
       "6890  5.500000  1.600000  15.050000  \n",
       "6891  4.842105  1.157895  17.000000  \n",
       "\n",
       "[6892 rows x 15 columns]"
      ]
     },
     "execution_count": 9,
     "metadata": {},
     "output_type": "execute_result"
    }
   ],
   "source": [
    "df_avg_stats"
   ]
  },
  {
   "cell_type": "markdown",
   "metadata": {},
   "source": [
    "Here is our tab with  the average stats of each team for all regular seasons since 2003."
   ]
  },
  {
   "cell_type": "markdown",
   "metadata": {},
   "source": [
    "# 1.2 Computing the WinRatio and the average gap score  of each team for all seasons they competed in"
   ]
  },
  {
   "cell_type": "code",
   "execution_count": 10,
   "metadata": {},
   "outputs": [],
   "source": [
    "df_results= df_season_results.drop(['WLoc','NumOT'],axis = 1)\n",
    "df_results['ScoreMargin'] = df_results['WScore'] - df_results['LScore']\n"
   ]
  },
  {
   "cell_type": "markdown",
   "metadata": {},
   "source": [
    "Let's first compute : the number of wins, the number of losses, the gap score of each match and specify weither it is a won match or a losed match."
   ]
  },
  {
   "cell_type": "code",
   "execution_count": 11,
   "metadata": {},
   "outputs": [],
   "source": [
    "num_win = df_results.groupby(['Season','WTeamID']).count()\n",
    "num_win = num_win.reset_index()[['Season', 'WTeamID', 'DayNum']].rename(columns={\"DayNum\": \"NumWins\", \"WTeamID\": \"TeamID\"})\n",
    "num_losses = df_results.groupby(['Season','LTeamID']).count()\n",
    "num_losses = num_losses.reset_index()[['Season', 'LTeamID', 'DayNum']].rename(columns={\"DayNum\": \"NumLosses\", \"LTeamID\": \"TeamID\"})\n",
    "gap_win = df_results.groupby(['Season','WTeamID']).mean().reset_index()\n",
    "gap_win = gap_win[['Season','WTeamID','ScoreMargin']].rename(columns = {'ScoreMargin' : 'Gap_Win' , 'WTeamID' : 'TeamID'})\n",
    "gap_loss = df_results.groupby(['Season','LTeamID']).mean().reset_index()\n",
    "gap_loss = gap_loss[['Season','LTeamID','ScoreMargin']].rename(columns = {'ScoreMargin' : 'Gap_Losses' , 'LTeamID' : 'TeamID'})\n",
    "\n"
   ]
  },
  {
   "cell_type": "markdown",
   "metadata": {},
   "source": [
    "Let's merge if for each team each season"
   ]
  },
  {
   "cell_type": "code",
   "execution_count": 12,
   "metadata": {},
   "outputs": [
    {
     "name": "stderr",
     "output_type": "stream",
     "text": [
      "/var/folders/3s/2snw8txj0118w4h7_5ldjpp80000gn/T/ipykernel_96489/1781378136.py:3: FutureWarning: In a future version of pandas all arguments of concat except for the argument 'objs' will be keyword-only\n",
      "  df_features_season = pd.concat([df_features_season_w, df_features_season_l], 0).drop_duplicates().sort_values(['Season', 'TeamID']).reset_index(drop=True)\n"
     ]
    }
   ],
   "source": [
    "df_features_season_w = df_results.groupby(['Season', 'WTeamID']).count().reset_index()[['Season', 'WTeamID']].rename(columns={\"WTeamID\": \"TeamID\"})\n",
    "df_features_season_l = df_results.groupby(['Season', 'LTeamID']).count().reset_index()[['Season', 'LTeamID']].rename(columns={\"LTeamID\": \"TeamID\"})\n",
    "df_features_season = pd.concat([df_features_season_w, df_features_season_l], 0).drop_duplicates().sort_values(['Season', 'TeamID']).reset_index(drop=True)\n",
    "df_features_season = df_features_season.merge(num_win, on=['Season', 'TeamID'], how='left')\n",
    "df_features_season = df_features_season.merge(num_losses, on=['Season', 'TeamID'], how='left')\n",
    "df_features_season = df_features_season.merge(gap_win, on=['Season', 'TeamID'], how='left')\n",
    "df_features_season = df_features_season.merge(gap_loss, on=['Season', 'TeamID'], how='left')"
   ]
  },
  {
   "cell_type": "markdown",
   "metadata": {},
   "source": [
    "We can now compute now the stats we need,"
   ]
  },
  {
   "cell_type": "code",
   "execution_count": 13,
   "metadata": {},
   "outputs": [],
   "source": [
    "df_features_season['WinRatio'] = df_features_season['NumWins'] / (df_features_season['NumWins'] + df_features_season['NumLosses'])\n",
    "df_features_season['GapAvg'] = (df_features_season['NumWins']*df_features_season['Gap_Win'] - df_features_season['NumLosses']*df_features_season['Gap_Losses']) / (df_features_season['NumWins']+df_features_season['NumLosses'])\n",
    "\n",
    "df_features_season.drop(['NumWins','NumLosses','Gap_Win','Gap_Losses'],axis = 1,inplace=True)\n",
    "\n",
    "df_features_season['WinRatio']=df_features_season['WinRatio'].fillna(0)\n",
    "df_features_season['GapAvg']=df_features_season['GapAvg'].fillna(0)"
   ]
  },
  {
   "cell_type": "code",
   "execution_count": 14,
   "metadata": {},
   "outputs": [
    {
     "data": {
      "text/html": [
       "<div>\n",
       "<style scoped>\n",
       "    .dataframe tbody tr th:only-of-type {\n",
       "        vertical-align: middle;\n",
       "    }\n",
       "\n",
       "    .dataframe tbody tr th {\n",
       "        vertical-align: top;\n",
       "    }\n",
       "\n",
       "    .dataframe thead th {\n",
       "        text-align: right;\n",
       "    }\n",
       "</style>\n",
       "<table border=\"1\" class=\"dataframe\">\n",
       "  <thead>\n",
       "    <tr style=\"text-align: right;\">\n",
       "      <th></th>\n",
       "      <th>Season</th>\n",
       "      <th>TeamID</th>\n",
       "      <th>WinRatio</th>\n",
       "      <th>GapAvg</th>\n",
       "    </tr>\n",
       "  </thead>\n",
       "  <tbody>\n",
       "    <tr>\n",
       "      <th>0</th>\n",
       "      <td>2003</td>\n",
       "      <td>1102</td>\n",
       "      <td>0.428571</td>\n",
       "      <td>0.250000</td>\n",
       "    </tr>\n",
       "    <tr>\n",
       "      <th>1</th>\n",
       "      <td>2003</td>\n",
       "      <td>1103</td>\n",
       "      <td>0.481481</td>\n",
       "      <td>0.629630</td>\n",
       "    </tr>\n",
       "    <tr>\n",
       "      <th>2</th>\n",
       "      <td>2003</td>\n",
       "      <td>1104</td>\n",
       "      <td>0.607143</td>\n",
       "      <td>4.285714</td>\n",
       "    </tr>\n",
       "    <tr>\n",
       "      <th>3</th>\n",
       "      <td>2003</td>\n",
       "      <td>1105</td>\n",
       "      <td>0.269231</td>\n",
       "      <td>-4.884615</td>\n",
       "    </tr>\n",
       "    <tr>\n",
       "      <th>4</th>\n",
       "      <td>2003</td>\n",
       "      <td>1106</td>\n",
       "      <td>0.464286</td>\n",
       "      <td>-0.142857</td>\n",
       "    </tr>\n",
       "    <tr>\n",
       "      <th>...</th>\n",
       "      <td>...</td>\n",
       "      <td>...</td>\n",
       "      <td>...</td>\n",
       "      <td>...</td>\n",
       "    </tr>\n",
       "    <tr>\n",
       "      <th>6887</th>\n",
       "      <td>2022</td>\n",
       "      <td>1468</td>\n",
       "      <td>0.450000</td>\n",
       "      <td>-4.300000</td>\n",
       "    </tr>\n",
       "    <tr>\n",
       "      <th>6888</th>\n",
       "      <td>2022</td>\n",
       "      <td>1469</td>\n",
       "      <td>0.368421</td>\n",
       "      <td>-8.000000</td>\n",
       "    </tr>\n",
       "    <tr>\n",
       "      <th>6889</th>\n",
       "      <td>2022</td>\n",
       "      <td>1470</td>\n",
       "      <td>0.380952</td>\n",
       "      <td>-3.047619</td>\n",
       "    </tr>\n",
       "    <tr>\n",
       "      <th>6890</th>\n",
       "      <td>2022</td>\n",
       "      <td>1471</td>\n",
       "      <td>0.400000</td>\n",
       "      <td>-4.000000</td>\n",
       "    </tr>\n",
       "    <tr>\n",
       "      <th>6891</th>\n",
       "      <td>2022</td>\n",
       "      <td>1472</td>\n",
       "      <td>0.263158</td>\n",
       "      <td>-5.368421</td>\n",
       "    </tr>\n",
       "  </tbody>\n",
       "</table>\n",
       "<p>6892 rows × 4 columns</p>\n",
       "</div>"
      ],
      "text/plain": [
       "      Season  TeamID  WinRatio    GapAvg\n",
       "0       2003    1102  0.428571  0.250000\n",
       "1       2003    1103  0.481481  0.629630\n",
       "2       2003    1104  0.607143  4.285714\n",
       "3       2003    1105  0.269231 -4.884615\n",
       "4       2003    1106  0.464286 -0.142857\n",
       "...      ...     ...       ...       ...\n",
       "6887    2022    1468  0.450000 -4.300000\n",
       "6888    2022    1469  0.368421 -8.000000\n",
       "6889    2022    1470  0.380952 -3.047619\n",
       "6890    2022    1471  0.400000 -4.000000\n",
       "6891    2022    1472  0.263158 -5.368421\n",
       "\n",
       "[6892 rows x 4 columns]"
      ]
     },
     "execution_count": 14,
     "metadata": {},
     "output_type": "execute_result"
    }
   ],
   "source": [
    "df_features_season"
   ]
  },
  {
   "cell_type": "markdown",
   "metadata": {},
   "source": [
    "Here is the tab that we aimed to create"
   ]
  },
  {
   "cell_type": "markdown",
   "metadata": {},
   "source": [
    "# 2. Let's create now a dataset that is 'usable' to train a model"
   ]
  },
  {
   "cell_type": "markdown",
   "metadata": {},
   "source": [
    "We are gonna train our networks on a large amount of matchs. Given the fact that we aim to create a model that is capable of predicting the issue of a match, we made the choice ton use the maximum data that is within our reach.\n",
    "We are going to analyse all the matchs that have been played through regular seasons and tournaments since 2003, and group them in one dataset.\n",
    "\n",
    "For each match, we are going to add to the initial data that is given by Kaggle, the average stats of the two teams during the regular season of the match, their average gap score and their win ratio. (For example, if a match has opposed Team A and Team B in the 2007 tournament, we will add as inputs, the average stats of Team A and Team B during the 2007 regular season,their average gap score and  their win ratio)\n",
    "\n",
    "In order to do that, we are going to load:\n",
    "the 'MNCAA Tourney Compact Results' which gives the data of all tournaments matchs played since 1985,\n",
    "the 'MRegularSeason Compact Results' which gives data of all regular seadon matchs played since 1985\n",
    "\n",
    "then add for each line(match) the average stats, winRation and AvgGap of each team.\n",
    "\n",
    "And concatenate the two datasets in order to form one big dataset of matchs, from which we will extract our Train and Test datasets."
   ]
  },
  {
   "cell_type": "markdown",
   "metadata": {},
   "source": [
    "## Load the Tournament matchs and Seasons matchs"
   ]
  },
  {
   "cell_type": "code",
   "execution_count": 15,
   "metadata": {},
   "outputs": [],
   "source": [
    "df_tourney_results = pd.read_csv(DATA_PATH + 'MNCAATourneyCompactResults.csv')\n",
    "df_tourney_results.drop(['WLoc','NumOT'],axis=1,inplace=True)"
   ]
  },
  {
   "cell_type": "code",
   "execution_count": 16,
   "metadata": {},
   "outputs": [],
   "source": [
    "df_results.drop(['WFGM',\n",
    "       'WFGA', 'WFGM3', 'WFGA3', 'WFTM', 'WFTA', 'WOR', 'WDR', 'WAst', 'WTO',\n",
    "       'WStl', 'WBlk', 'WPF', 'LFGM', 'LFGA', 'LFGM3', 'LFGA3', 'LFTM', 'LFTA',\n",
    "       'LOR', 'LDR', 'LAst', 'LTO', 'LStl', 'LBlk', 'LPF','ScoreMargin'],axis=1,inplace=True)"
   ]
  },
  {
   "cell_type": "markdown",
   "metadata": {},
   "source": [
    "Here are all the regular season matchs since 2003"
   ]
  },
  {
   "cell_type": "code",
   "execution_count": 17,
   "metadata": {},
   "outputs": [
    {
     "data": {
      "text/html": [
       "<div>\n",
       "<style scoped>\n",
       "    .dataframe tbody tr th:only-of-type {\n",
       "        vertical-align: middle;\n",
       "    }\n",
       "\n",
       "    .dataframe tbody tr th {\n",
       "        vertical-align: top;\n",
       "    }\n",
       "\n",
       "    .dataframe thead th {\n",
       "        text-align: right;\n",
       "    }\n",
       "</style>\n",
       "<table border=\"1\" class=\"dataframe\">\n",
       "  <thead>\n",
       "    <tr style=\"text-align: right;\">\n",
       "      <th></th>\n",
       "      <th>Season</th>\n",
       "      <th>DayNum</th>\n",
       "      <th>WTeamID</th>\n",
       "      <th>WScore</th>\n",
       "      <th>LTeamID</th>\n",
       "      <th>LScore</th>\n",
       "    </tr>\n",
       "  </thead>\n",
       "  <tbody>\n",
       "    <tr>\n",
       "      <th>0</th>\n",
       "      <td>2003</td>\n",
       "      <td>10</td>\n",
       "      <td>1104</td>\n",
       "      <td>68</td>\n",
       "      <td>1328</td>\n",
       "      <td>62</td>\n",
       "    </tr>\n",
       "    <tr>\n",
       "      <th>1</th>\n",
       "      <td>2003</td>\n",
       "      <td>10</td>\n",
       "      <td>1272</td>\n",
       "      <td>70</td>\n",
       "      <td>1393</td>\n",
       "      <td>63</td>\n",
       "    </tr>\n",
       "    <tr>\n",
       "      <th>2</th>\n",
       "      <td>2003</td>\n",
       "      <td>11</td>\n",
       "      <td>1266</td>\n",
       "      <td>73</td>\n",
       "      <td>1437</td>\n",
       "      <td>61</td>\n",
       "    </tr>\n",
       "    <tr>\n",
       "      <th>3</th>\n",
       "      <td>2003</td>\n",
       "      <td>11</td>\n",
       "      <td>1296</td>\n",
       "      <td>56</td>\n",
       "      <td>1457</td>\n",
       "      <td>50</td>\n",
       "    </tr>\n",
       "    <tr>\n",
       "      <th>4</th>\n",
       "      <td>2003</td>\n",
       "      <td>11</td>\n",
       "      <td>1400</td>\n",
       "      <td>77</td>\n",
       "      <td>1208</td>\n",
       "      <td>71</td>\n",
       "    </tr>\n",
       "    <tr>\n",
       "      <th>...</th>\n",
       "      <td>...</td>\n",
       "      <td>...</td>\n",
       "      <td>...</td>\n",
       "      <td>...</td>\n",
       "      <td>...</td>\n",
       "      <td>...</td>\n",
       "    </tr>\n",
       "    <tr>\n",
       "      <th>100418</th>\n",
       "      <td>2022</td>\n",
       "      <td>98</td>\n",
       "      <td>1400</td>\n",
       "      <td>79</td>\n",
       "      <td>1242</td>\n",
       "      <td>76</td>\n",
       "    </tr>\n",
       "    <tr>\n",
       "      <th>100419</th>\n",
       "      <td>2022</td>\n",
       "      <td>98</td>\n",
       "      <td>1411</td>\n",
       "      <td>66</td>\n",
       "      <td>1126</td>\n",
       "      <td>63</td>\n",
       "    </tr>\n",
       "    <tr>\n",
       "      <th>100420</th>\n",
       "      <td>2022</td>\n",
       "      <td>98</td>\n",
       "      <td>1422</td>\n",
       "      <td>68</td>\n",
       "      <td>1441</td>\n",
       "      <td>49</td>\n",
       "    </tr>\n",
       "    <tr>\n",
       "      <th>100421</th>\n",
       "      <td>2022</td>\n",
       "      <td>98</td>\n",
       "      <td>1438</td>\n",
       "      <td>69</td>\n",
       "      <td>1181</td>\n",
       "      <td>68</td>\n",
       "    </tr>\n",
       "    <tr>\n",
       "      <th>100422</th>\n",
       "      <td>2022</td>\n",
       "      <td>98</td>\n",
       "      <td>1439</td>\n",
       "      <td>74</td>\n",
       "      <td>1338</td>\n",
       "      <td>47</td>\n",
       "    </tr>\n",
       "  </tbody>\n",
       "</table>\n",
       "<p>100423 rows × 6 columns</p>\n",
       "</div>"
      ],
      "text/plain": [
       "        Season  DayNum  WTeamID  WScore  LTeamID  LScore\n",
       "0         2003      10     1104      68     1328      62\n",
       "1         2003      10     1272      70     1393      63\n",
       "2         2003      11     1266      73     1437      61\n",
       "3         2003      11     1296      56     1457      50\n",
       "4         2003      11     1400      77     1208      71\n",
       "...        ...     ...      ...     ...      ...     ...\n",
       "100418    2022      98     1400      79     1242      76\n",
       "100419    2022      98     1411      66     1126      63\n",
       "100420    2022      98     1422      68     1441      49\n",
       "100421    2022      98     1438      69     1181      68\n",
       "100422    2022      98     1439      74     1338      47\n",
       "\n",
       "[100423 rows x 6 columns]"
      ]
     },
     "execution_count": 17,
     "metadata": {},
     "output_type": "execute_result"
    }
   ],
   "source": [
    "df_results"
   ]
  },
  {
   "cell_type": "markdown",
   "metadata": {},
   "source": [
    "And the tournaments matchs"
   ]
  },
  {
   "cell_type": "code",
   "execution_count": 18,
   "metadata": {},
   "outputs": [
    {
     "data": {
      "text/html": [
       "<div>\n",
       "<style scoped>\n",
       "    .dataframe tbody tr th:only-of-type {\n",
       "        vertical-align: middle;\n",
       "    }\n",
       "\n",
       "    .dataframe tbody tr th {\n",
       "        vertical-align: top;\n",
       "    }\n",
       "\n",
       "    .dataframe thead th {\n",
       "        text-align: right;\n",
       "    }\n",
       "</style>\n",
       "<table border=\"1\" class=\"dataframe\">\n",
       "  <thead>\n",
       "    <tr style=\"text-align: right;\">\n",
       "      <th></th>\n",
       "      <th>Season</th>\n",
       "      <th>DayNum</th>\n",
       "      <th>WTeamID</th>\n",
       "      <th>WScore</th>\n",
       "      <th>LTeamID</th>\n",
       "      <th>LScore</th>\n",
       "    </tr>\n",
       "  </thead>\n",
       "  <tbody>\n",
       "    <tr>\n",
       "      <th>0</th>\n",
       "      <td>1985</td>\n",
       "      <td>136</td>\n",
       "      <td>1116</td>\n",
       "      <td>63</td>\n",
       "      <td>1234</td>\n",
       "      <td>54</td>\n",
       "    </tr>\n",
       "    <tr>\n",
       "      <th>1</th>\n",
       "      <td>1985</td>\n",
       "      <td>136</td>\n",
       "      <td>1120</td>\n",
       "      <td>59</td>\n",
       "      <td>1345</td>\n",
       "      <td>58</td>\n",
       "    </tr>\n",
       "    <tr>\n",
       "      <th>2</th>\n",
       "      <td>1985</td>\n",
       "      <td>136</td>\n",
       "      <td>1207</td>\n",
       "      <td>68</td>\n",
       "      <td>1250</td>\n",
       "      <td>43</td>\n",
       "    </tr>\n",
       "    <tr>\n",
       "      <th>3</th>\n",
       "      <td>1985</td>\n",
       "      <td>136</td>\n",
       "      <td>1229</td>\n",
       "      <td>58</td>\n",
       "      <td>1425</td>\n",
       "      <td>55</td>\n",
       "    </tr>\n",
       "    <tr>\n",
       "      <th>4</th>\n",
       "      <td>1985</td>\n",
       "      <td>136</td>\n",
       "      <td>1242</td>\n",
       "      <td>49</td>\n",
       "      <td>1325</td>\n",
       "      <td>38</td>\n",
       "    </tr>\n",
       "    <tr>\n",
       "      <th>...</th>\n",
       "      <td>...</td>\n",
       "      <td>...</td>\n",
       "      <td>...</td>\n",
       "      <td>...</td>\n",
       "      <td>...</td>\n",
       "      <td>...</td>\n",
       "    </tr>\n",
       "    <tr>\n",
       "      <th>2312</th>\n",
       "      <td>2021</td>\n",
       "      <td>148</td>\n",
       "      <td>1211</td>\n",
       "      <td>85</td>\n",
       "      <td>1425</td>\n",
       "      <td>66</td>\n",
       "    </tr>\n",
       "    <tr>\n",
       "      <th>2313</th>\n",
       "      <td>2021</td>\n",
       "      <td>148</td>\n",
       "      <td>1417</td>\n",
       "      <td>51</td>\n",
       "      <td>1276</td>\n",
       "      <td>49</td>\n",
       "    </tr>\n",
       "    <tr>\n",
       "      <th>2314</th>\n",
       "      <td>2021</td>\n",
       "      <td>152</td>\n",
       "      <td>1124</td>\n",
       "      <td>78</td>\n",
       "      <td>1222</td>\n",
       "      <td>59</td>\n",
       "    </tr>\n",
       "    <tr>\n",
       "      <th>2315</th>\n",
       "      <td>2021</td>\n",
       "      <td>152</td>\n",
       "      <td>1211</td>\n",
       "      <td>93</td>\n",
       "      <td>1417</td>\n",
       "      <td>90</td>\n",
       "    </tr>\n",
       "    <tr>\n",
       "      <th>2316</th>\n",
       "      <td>2021</td>\n",
       "      <td>154</td>\n",
       "      <td>1124</td>\n",
       "      <td>86</td>\n",
       "      <td>1211</td>\n",
       "      <td>70</td>\n",
       "    </tr>\n",
       "  </tbody>\n",
       "</table>\n",
       "<p>2317 rows × 6 columns</p>\n",
       "</div>"
      ],
      "text/plain": [
       "      Season  DayNum  WTeamID  WScore  LTeamID  LScore\n",
       "0       1985     136     1116      63     1234      54\n",
       "1       1985     136     1120      59     1345      58\n",
       "2       1985     136     1207      68     1250      43\n",
       "3       1985     136     1229      58     1425      55\n",
       "4       1985     136     1242      49     1325      38\n",
       "...      ...     ...      ...     ...      ...     ...\n",
       "2312    2021     148     1211      85     1425      66\n",
       "2313    2021     148     1417      51     1276      49\n",
       "2314    2021     152     1124      78     1222      59\n",
       "2315    2021     152     1211      93     1417      90\n",
       "2316    2021     154     1124      86     1211      70\n",
       "\n",
       "[2317 rows x 6 columns]"
      ]
     },
     "execution_count": 18,
     "metadata": {},
     "output_type": "execute_result"
    }
   ],
   "source": [
    "df_tourney_results"
   ]
  },
  {
   "cell_type": "markdown",
   "metadata": {},
   "source": [
    "Let's merge all the data for the tournaments matchs"
   ]
  },
  {
   "cell_type": "code",
   "execution_count": 19,
   "metadata": {},
   "outputs": [],
   "source": [
    "df = df_tourney_results[df_tourney_results['Season'] >= 2003].reset_index(drop=True)"
   ]
  },
  {
   "cell_type": "code",
   "execution_count": 20,
   "metadata": {},
   "outputs": [],
   "source": [
    "df = pd.merge(\n",
    "    df, \n",
    "    seeds, \n",
    "    how='left', \n",
    "    left_on=['Season', 'WTeamID'], \n",
    "    right_on=['Season', 'TeamID']\n",
    ").drop('TeamID', axis=1).rename(columns={'Seed': 'WSeed'})\n",
    "\n",
    "df = pd.merge(\n",
    "    df, \n",
    "    seeds, \n",
    "    how='left', \n",
    "    left_on=['Season', 'LTeamID'], \n",
    "    right_on=['Season', 'TeamID']\n",
    ").drop('TeamID', axis=1).rename(columns={'Seed': 'LSeed'})\n",
    "\n",
    "def treat_seed(seed):\n",
    "    return int(seed[1:3])\n",
    "\n",
    "df['WSeed'] = df['WSeed'].apply(treat_seed)\n",
    "df['LSeed'] = df['LSeed'].apply(treat_seed)\n",
    "\n",
    "df = pd.merge(df,\n",
    "df_features_season,\n",
    "how = 'left',\n",
    "left_on=['Season','WTeamID'],\n",
    "right_on = ['Season','TeamID'],\n",
    ").rename(columns = {'WinRatio' : 'WwinRatio' , 'GapAvg' : 'WGapAvg' } ).drop('TeamID',axis=1)\n",
    "\n",
    "df = pd.merge(df,\n",
    "df_features_season,\n",
    "how = 'left',\n",
    "left_on=['Season','LTeamID'],\n",
    "right_on = ['Season','TeamID'],\n",
    ").rename(columns = {'WinRatio' : 'LwinRatio' , 'GapAvg' : 'LGapAvg' } ).drop('TeamID',axis=1)\n",
    "\n",
    "avg_ranking = df_massey.groupby(['Season', 'TeamID']).mean().reset_index()\n",
    "\n",
    "df = pd.merge(\n",
    "   df,\n",
    "     avg_ranking,\n",
    "     how='left',\n",
    "     left_on=['Season', 'WTeamID'],\n",
    "     right_on=['Season', 'TeamID']\n",
    " ).drop('TeamID', axis=1).rename(columns={'OrdinalRank': 'WOrdinalRank'})\n",
    "\n",
    "df = pd.merge(\n",
    "   df,\n",
    "     avg_ranking,\n",
    "     how='left',\n",
    "     left_on=['Season', 'LTeamID'],\n",
    "     right_on=['Season', 'TeamID']\n",
    " ).drop('TeamID', axis=1).rename(columns={'OrdinalRank': 'LOrdinalRank'})\n",
    "\n",
    "df = pd.merge(df,\n",
    "df_avg_stats,\n",
    "how = 'left',\n",
    "left_on=['Season','WTeamID'],\n",
    "right_on = ['Season','T1_TeamID'],\n",
    ").rename(columns = {'T1_FGM' : 'WAvgFGM',\t'T1_FGA' : 'WAvgFGA',\t'T1_FGM3' : 'WAvgFGM3', 'T1_FGA3':'WAvgFGA3',\t'T1_FTM':'WAvgFTM',\t'T1_FTA':'WAvgFTA'\t,'T1_OR':'WAvgOR',\t'T1_DR':'WAvgDR',\t'T1_Ast':'WAvgAst',\t'T1_TO':'WAvgTO',\t'T1_Stl':'WAvgStl',\t'T1_Blk':'WAvgBlk',\t'T1_PF':'WAvgPF' } ).drop('T1_TeamID',axis=1)\n",
    "\n",
    "df = pd.merge(df,\n",
    "df_avg_stats,\n",
    "how = 'left',\n",
    "left_on=['Season','LTeamID'],\n",
    "right_on = ['Season','T1_TeamID'],\n",
    ").rename(columns = {'T1_FGM' : 'LAvgFGM',\t'T1_FGA' : 'LAvgFGA',\t'T1_FGM3' : 'LAvgFGM3', 'T1_FGA3':'LAvgFGA3',\t'T1_FTM':'LAvgFTM',\t'T1_FTA':'LAvgFTA'\t,'T1_OR':'LAvgOR',\t'T1_DR':'LAvgDR',\t'T1_Ast':'LAvgAst',\t'T1_TO':'LAvgTO',\t'T1_Stl':'LAvgStl',\t'T1_Blk':'LAvgBlk',\t'T1_PF':'LAvgPF' } ).drop('T1_TeamID',axis=1)\n"
   ]
  },
  {
   "cell_type": "markdown",
   "metadata": {},
   "source": [
    "let's merge all the data for the regular season matchs (you can notice that we decided to give an arbitrary seed for each team that did not qualify for the tournament : 40)"
   ]
  },
  {
   "cell_type": "code",
   "execution_count": 21,
   "metadata": {},
   "outputs": [],
   "source": [
    "df_2 = df_results.copy()"
   ]
  },
  {
   "cell_type": "code",
   "execution_count": 22,
   "metadata": {},
   "outputs": [],
   "source": [
    "df_2 = pd.merge(\n",
    "    df_2, \n",
    "    seeds, \n",
    "    how='left', \n",
    "    left_on=['Season', 'WTeamID'], \n",
    "    right_on=['Season', 'TeamID']\n",
    ").drop('TeamID', axis=1).rename(columns={'Seed': 'WSeed'})\n",
    "\n",
    "df_2 = pd.merge(\n",
    "    df_2, \n",
    "    seeds, \n",
    "    how='left', \n",
    "    left_on=['Season', 'LTeamID'], \n",
    "    right_on=['Season', 'TeamID']\n",
    ").drop('TeamID', axis=1).rename(columns={'Seed': 'LSeed'})\n",
    "\n",
    "df_2['WSeed'] = df_2['WSeed'].fillna('W40U')\n",
    "df_2['LSeed'] = df_2['LSeed'].fillna('W40U')\n",
    "\n",
    "df_2['WSeed'] = df_2['WSeed'].apply(treat_seed)\n",
    "df_2['LSeed'] = df_2['LSeed'].apply(treat_seed)\n",
    "\n",
    "\n",
    "df_2 = pd.merge(df_2,\n",
    "df_features_season,\n",
    "how = 'left',\n",
    "left_on=['Season','WTeamID'],\n",
    "right_on = ['Season','TeamID'],\n",
    ").rename(columns = {'WinRatio' : 'WwinRatio' , 'GapAvg' : 'WGapAvg' } ).drop('TeamID',axis=1)\n",
    "\n",
    "df_2 = pd.merge(df_2,\n",
    "df_features_season,\n",
    "how = 'left',\n",
    "left_on=['Season','LTeamID'],\n",
    "right_on = ['Season','TeamID'],\n",
    ").rename(columns = {'WinRatio' : 'LwinRatio' , 'GapAvg' : 'LGapAvg' } ).drop('TeamID',axis=1)\n",
    "\n",
    "\n",
    "df_2 = pd.merge(df_2,\n",
    "df_avg_stats,\n",
    "how = 'left',\n",
    "left_on=['Season','WTeamID'],\n",
    "right_on = ['Season','T1_TeamID'],\n",
    ").rename(columns = {'T1_FGM' : 'WAvgFGM',\t'T1_FGA' : 'WAvgFGA',\t'T1_FGM3' : 'WAvgFGM3', 'T1_FGA3':'WAvgFGA3',\t'T1_FTM':'WAvgFTM',\t'T1_FTA':'WAvgFTA'\t,'T1_OR':'WAvgOR',\t'T1_DR':'WAvgDR',\t'T1_Ast':'WAvgAst',\t'T1_TO':'WAvgTO',\t'T1_Stl':'WAvgStl',\t'T1_Blk':'WAvgBlk',\t'T1_PF':'WAvgPF' } ).drop('T1_TeamID',axis=1)\n",
    "\n",
    "df_2 = pd.merge(df_2,\n",
    "df_avg_stats,\n",
    "how = 'left',\n",
    "left_on=['Season','LTeamID'],\n",
    "right_on = ['Season','T1_TeamID'],\n",
    ").rename(columns = {'T1_FGM' : 'LAvgFGM',\t'T1_FGA' : 'LAvgFGA',\t'T1_FGM3' : 'LAvgFGM3', 'T1_FGA3':'LAvgFGA3',\t'T1_FTM':'LAvgFTM',\t'T1_FTA':'LAvgFTA'\t,'T1_OR':'LAvgOR',\t'T1_DR':'LAvgDR',\t'T1_Ast':'LAvgAst',\t'T1_TO':'LAvgTO',\t'T1_Stl':'LAvgStl',\t'T1_Blk':'LAvgBlk',\t'T1_PF':'LAvgPF' } ).drop('T1_TeamID',axis=1)\n"
   ]
  },
  {
   "cell_type": "code",
   "execution_count": 23,
   "metadata": {},
   "outputs": [
    {
     "name": "stderr",
     "output_type": "stream",
     "text": [
      "/var/folders/3s/2snw8txj0118w4h7_5ldjpp80000gn/T/ipykernel_96489/1355792495.py:7: FutureWarning: In a future version of pandas all arguments of concat except for the argument 'objs' will be keyword-only\n",
      "  return pd.concat([win_df, lose_df], 0, sort=False)\n"
     ]
    }
   ],
   "source": [
    "df = prepare_data(df)\n",
    "df_2 = prepare_data(df_2)"
   ]
  },
  {
   "cell_type": "markdown",
   "metadata": {},
   "source": [
    "Let's add some interessant features"
   ]
  },
  {
   "cell_type": "code",
   "execution_count": 24,
   "metadata": {},
   "outputs": [],
   "source": [
    "df['SeedDiff'] = df['T1_Seed'] - df['T2_Seed']\n",
    "df['WinRatioDiff'] = df['T1_winRatio'] - df['T2_winRatio']\n",
    "df['GapAvgDiff'] = df['T1_GapAvg'] - df['T2_GapAvg']\n",
    "df['OrdinalRankDiff'] = df['T1_OrdinalRank'] - df['T2_OrdinalRank']"
   ]
  },
  {
   "cell_type": "code",
   "execution_count": 25,
   "metadata": {},
   "outputs": [],
   "source": [
    "df_2['SeedDiff'] = df_2['T1_Seed'] - df_2['T2_Seed']\n",
    "df_2['WinRatioDiff'] = df_2['T1_winRatio'] - df_2['T2_winRatio']\n",
    "df_2['GapAvgDiff'] = df_2['T1_GapAvg'] - df_2['T2_GapAvg']\n",
    "df_2['OrdinalRankDiff'] = 0"
   ]
  },
  {
   "cell_type": "markdown",
   "metadata": {},
   "source": [
    "### Here is the final dataset"
   ]
  },
  {
   "cell_type": "code",
   "execution_count": 26,
   "metadata": {},
   "outputs": [
    {
     "name": "stderr",
     "output_type": "stream",
     "text": [
      "/var/folders/3s/2snw8txj0118w4h7_5ldjpp80000gn/T/ipykernel_96489/2490820630.py:1: FutureWarning: In a future version of pandas all arguments of concat except for the argument 'objs' will be keyword-only\n",
      "  df= pd.concat([df, df_2], 0, sort=False)\n"
     ]
    }
   ],
   "source": [
    "df= pd.concat([df, df_2], 0, sort=False)"
   ]
  },
  {
   "cell_type": "markdown",
   "metadata": {},
   "source": [
    "# 2.1 Creation of X_train,Y_train,X_test,Y_test"
   ]
  },
  {
   "cell_type": "code",
   "execution_count": 27,
   "metadata": {},
   "outputs": [],
   "source": [
    "from sklearn.model_selection import train_test_split\n",
    "\n",
    "import eli5\n",
    "\n",
    "\n",
    "\n",
    "features = [\n",
    "    'T1_winRatio', 'T1_GapAvg', 'T2_winRatio',\n",
    "       'T2_GapAvg', 'T1_AvgFGM',\n",
    "       'T1_AvgFGA', 'T1_AvgFGM3', 'T1_AvgFGA3', 'T1_AvgFTM', 'T1_AvgFTA',\n",
    "       'T1_AvgOR', 'T1_AvgDR', 'T1_AvgAst', 'T1_AvgTO', 'T1_AvgStl',\n",
    "       'T1_AvgBlk', 'T1_AvgPF', 'T2_AvgFGM', 'T2_AvgFGA', 'T2_AvgFGM3',\n",
    "       'T2_AvgFGA3', 'T2_AvgFTM', 'T2_AvgFTA', 'T2_AvgOR', 'T2_AvgDR',\n",
    "       'T2_AvgAst', 'T2_AvgTO', 'T2_AvgStl', 'T2_AvgBlk', 'T2_AvgPF',\n",
    "       'SeedDiff', 'WinRatioDiff', 'GapAvgDiff', 'OrdinalRankDiff']\n",
    "\n",
    "df['ScoreDiff'] = df['T1_Score'] - df['T2_Score']\n",
    "y = (df['ScoreDiff'] > 0).astype(int)\n",
    "X = df[features]\n",
    "\n",
    "X_train,X_test,y_train,y_test = train_test_split(X,y,test_size=0.2, random_state=42)\n"
   ]
  },
  {
   "cell_type": "markdown",
   "metadata": {},
   "source": [
    "# 2.2 Pre-processing functions"
   ]
  },
  {
   "cell_type": "markdown",
   "metadata": {},
   "source": [
    "# Let's build some models"
   ]
  },
  {
   "cell_type": "code",
   "execution_count": 28,
   "metadata": {},
   "outputs": [],
   "source": [
    "def evaluation(model):\n",
    "    model.fit(X_train, y_train)\n",
    "    ypred = model.predict(X_test)\n",
    "    \n",
    "    \n",
    "    print(\"   log_loss\", round(metrics.log_loss(y_test.values,model.predict_proba(X_test)),2))\n",
    "\n",
    "\n",
    "def evaluation_with_learning_curve(model):\n",
    "    model.fit(X_train, y_train)\n",
    "    ypred = model.predict(X_test)\n",
    "    \n",
    "\n",
    "    try:\n",
    "        print(\"   log_loss\", round(metrics.log_loss(y_test.values,model.predict_proba(X_test)),2))\n",
    "    except:\n",
    "        print(f\"   Can't calculate log_loss for {model.steps[1][0]} !!\")\n",
    "    print(\"   f1 score \" , round(f1_score(y_test,ypred),2))\n",
    "    print(\"   roc auc score \" ,  round(roc_auc_score(y_test,ypred),2))\n",
    "    fpr, tpr, thresholds = metrics.roc_curve(y_test, ypred)\n",
    "    \n",
    "    roc_auc = metrics.auc(fpr, tpr)\n",
    "    display = metrics.RocCurveDisplay(fpr=fpr, tpr=tpr, roc_auc=roc_auc, estimator_name='example estimator')\n",
    "    display.plot()  \n",
    "    plt.show()      "
   ]
  },
  {
   "cell_type": "code",
   "execution_count": 29,
   "metadata": {},
   "outputs": [],
   "source": [
    "LogisticRegression = make_pipeline(StandardScaler(), LogisticRegression())\n",
    "RandomForest = make_pipeline(\n",
    "    StandardScaler(),\n",
    "    RandomForestClassifier(max_depth=10, random_state=0,n_estimators=100,bootstrap = True,)\n",
    ")\n",
    "XGB = make_pipeline(StandardScaler(),XGBClassifier())\n",
    "AdaBoost = make_pipeline(StandardScaler(), AdaBoostClassifier(random_state=0))\n",
    "MLP = make_pipeline(StandardScaler(), MLPClassifier(random_state=0))\n",
    "SVC = make_pipeline(StandardScaler(), SVC())\n",
    "KNN = make_pipeline(StandardScaler(), KNeighborsClassifier())\n",
    "KNN_ = make_pipeline(KNeighborsClassifier())\n",
    "LinearDiscriminantAnalysis = make_pipeline(StandardScaler(), LinearDiscriminantAnalysis()) \n",
    "\"\"\"LinearDiscriminantAnalysis_Kbest = make_pipeline(\n",
    "    StandardScaler(),\n",
    "    SelectKBest(f_classif, k=10),\n",
    "    LinearDiscriminantAnalysis()\n",
    ") \n",
    "LinearDiscriminantAnalysis_PolynomialFeatures = make_pipeline(\n",
    "    StandardScaler(),\n",
    "    PolynomialFeatures(2, include_bias=False),\n",
    "    LinearDiscriminantAnalysis(),\n",
    ") \"\"\"\n",
    "GaussianNB = make_pipeline(StandardScaler(), GaussianNB()) \n",
    "MultinomialNB = make_pipeline(StandardScaler(), MultinomialNB())\n",
    "ComplementNB = make_pipeline(StandardScaler(), ComplementNB())\n",
    "BernoulliNB = make_pipeline(StandardScaler(), BernoulliNB())"
   ]
  },
  {
   "cell_type": "markdown",
   "metadata": {},
   "source": [
    "After several tests, we have some models that perform better"
   ]
  },
  {
   "cell_type": "code",
   "execution_count": 147,
   "metadata": {},
   "outputs": [],
   "source": [
    "dict_of_models = {\n",
    "    'LogisticRegression': LogisticRegression,\n",
    "    'RandomForest': RandomForest,\n",
    "    'MLP': MLP,\n",
    "    'XGB' : XGB,\n",
    "    'LinearDiscriminantAnalysis': LinearDiscriminantAnalysis,\n",
    "    #'LinearDiscriminantAnalysis_Kbest': LinearDiscriminantAnalysis_Kbest,\n",
    "    #'LinearDiscriminantAnalysis_PolynomialFeatures': LinearDiscriminantAnalysis_PolynomialFeatures,\n",
    "}"
   ]
  },
  {
   "cell_type": "code",
   "execution_count": 148,
   "metadata": {},
   "outputs": [
    {
     "name": "stdout",
     "output_type": "stream",
     "text": [
      "LogisticRegression\n",
      "   log_loss 0.51\n",
      "   f1 score  0.74\n",
      "   roc auc score  0.75\n"
     ]
    },
    {
     "data": {
      "image/png": "[encoded data removed]",
      "text/plain": [
       "<Figure size 432x288 with 1 Axes>"
      ]
     },
     "metadata": {
      "needs_background": "light"
     },
     "output_type": "display_data"
    },
    {
     "name": "stdout",
     "output_type": "stream",
     "text": [
      "RandomForest\n",
      "   log_loss 0.52\n",
      "   f1 score  0.74\n",
      "   roc auc score  0.74\n"
     ]
    },
    {
     "data": {
      "image/png": "[encoded data removed]",
      "text/plain": [
       "<Figure size 432x288 with 1 Axes>"
      ]
     },
     "metadata": {
      "needs_background": "light"
     },
     "output_type": "display_data"
    },
    {
     "name": "stdout",
     "output_type": "stream",
     "text": [
      "MLP\n",
      "   log_loss 0.52\n",
      "   f1 score  0.74\n",
      "   roc auc score  0.74\n"
     ]
    },
    {
     "data": {
      "image/png": "[encoded data removed]",
      "text/plain": [
       "<Figure size 432x288 with 1 Axes>"
      ]
     },
     "metadata": {
      "needs_background": "light"
     },
     "output_type": "display_data"
    },
    {
     "name": "stdout",
     "output_type": "stream",
     "text": [
      "XGB\n",
      "[18:58:13] WARNING: /Users/runner/miniforge3/conda-bld/xgboost-split_1645117948562/work/src/learner.cc:1115: Starting in XGBoost 1.3.0, the default evaluation metric used with the objective 'binary:logistic' was changed from 'error' to 'logloss'. Explicitly set eval_metric if you'd like to restore the old behavior.\n",
      "   log_loss 0.52\n",
      "   f1 score  0.74\n",
      "   roc auc score  0.74\n"
     ]
    },
    {
     "data": {
      "image/png": "[encoded data removed]",
      "text/plain": [
       "<Figure size 432x288 with 1 Axes>"
      ]
     },
     "metadata": {
      "needs_background": "light"
     },
     "output_type": "display_data"
    },
    {
     "name": "stdout",
     "output_type": "stream",
     "text": [
      "LinearDiscriminantAnalysis\n",
      "   log_loss 0.52\n",
      "   f1 score  0.74\n",
      "   roc auc score  0.75\n"
     ]
    },
    {
     "data": {
      "image/png": "[encoded data removed]",
      "text/plain": [
       "<Figure size 432x288 with 1 Axes>"
      ]
     },
     "metadata": {
      "needs_background": "light"
     },
     "output_type": "display_data"
    }
   ],
   "source": [
    "# pour éviter l'afficahge des warning\n",
    "import warnings\n",
    "warnings.filterwarnings(\"ignore\")\n",
    "\n",
    "for name, model in dict_of_models.items():\n",
    "    print(name)\n",
    "    evaluation_with_learning_curve(model)"
   ]
  },
  {
   "cell_type": "markdown",
   "metadata": {},
   "source": [
    "# 3. Creating the submission file"
   ]
  },
  {
   "cell_type": "code",
   "execution_count": 33,
   "metadata": {},
   "outputs": [
    {
     "data": {
      "text/html": [
       "<div>\n",
       "<style scoped>\n",
       "    .dataframe tbody tr th:only-of-type {\n",
       "        vertical-align: middle;\n",
       "    }\n",
       "\n",
       "    .dataframe tbody tr th {\n",
       "        vertical-align: top;\n",
       "    }\n",
       "\n",
       "    .dataframe thead th {\n",
       "        text-align: right;\n",
       "    }\n",
       "</style>\n",
       "<table border=\"1\" class=\"dataframe\">\n",
       "  <thead>\n",
       "    <tr style=\"text-align: right;\">\n",
       "      <th></th>\n",
       "      <th>ID</th>\n",
       "      <th>Pred</th>\n",
       "    </tr>\n",
       "  </thead>\n",
       "  <tbody>\n",
       "    <tr>\n",
       "      <th>0</th>\n",
       "      <td>2016_1112_1114</td>\n",
       "      <td>0.5</td>\n",
       "    </tr>\n",
       "    <tr>\n",
       "      <th>1</th>\n",
       "      <td>2016_1112_1122</td>\n",
       "      <td>0.5</td>\n",
       "    </tr>\n",
       "    <tr>\n",
       "      <th>2</th>\n",
       "      <td>2016_1112_1124</td>\n",
       "      <td>0.5</td>\n",
       "    </tr>\n",
       "    <tr>\n",
       "      <th>3</th>\n",
       "      <td>2016_1112_1138</td>\n",
       "      <td>0.5</td>\n",
       "    </tr>\n",
       "    <tr>\n",
       "      <th>4</th>\n",
       "      <td>2016_1112_1139</td>\n",
       "      <td>0.5</td>\n",
       "    </tr>\n",
       "  </tbody>\n",
       "</table>\n",
       "</div>"
      ],
      "text/plain": [
       "               ID  Pred\n",
       "0  2016_1112_1114   0.5\n",
       "1  2016_1112_1122   0.5\n",
       "2  2016_1112_1124   0.5\n",
       "3  2016_1112_1138   0.5\n",
       "4  2016_1112_1139   0.5"
      ]
     },
     "execution_count": 33,
     "metadata": {},
     "output_type": "execute_result"
    }
   ],
   "source": [
    "sub = pd.read_csv(DATA_PATH + 'MSampleSubmissionStage1.csv')\n",
    "sub.head()"
   ]
  },
  {
   "cell_type": "code",
   "execution_count": 34,
   "metadata": {},
   "outputs": [
    {
     "data": {
      "text/html": [
       "<div>\n",
       "<style scoped>\n",
       "    .dataframe tbody tr th:only-of-type {\n",
       "        vertical-align: middle;\n",
       "    }\n",
       "\n",
       "    .dataframe tbody tr th {\n",
       "        vertical-align: top;\n",
       "    }\n",
       "\n",
       "    .dataframe thead th {\n",
       "        text-align: right;\n",
       "    }\n",
       "</style>\n",
       "<table border=\"1\" class=\"dataframe\">\n",
       "  <thead>\n",
       "    <tr style=\"text-align: right;\">\n",
       "      <th></th>\n",
       "      <th>ID</th>\n",
       "      <th>Pred</th>\n",
       "      <th>Season</th>\n",
       "      <th>T1_TeamID</th>\n",
       "      <th>T2_TeamID</th>\n",
       "    </tr>\n",
       "  </thead>\n",
       "  <tbody>\n",
       "    <tr>\n",
       "      <th>0</th>\n",
       "      <td>2016_1112_1114</td>\n",
       "      <td>0.5</td>\n",
       "      <td>2016</td>\n",
       "      <td>1112</td>\n",
       "      <td>1114</td>\n",
       "    </tr>\n",
       "    <tr>\n",
       "      <th>1</th>\n",
       "      <td>2016_1112_1122</td>\n",
       "      <td>0.5</td>\n",
       "      <td>2016</td>\n",
       "      <td>1112</td>\n",
       "      <td>1122</td>\n",
       "    </tr>\n",
       "    <tr>\n",
       "      <th>2</th>\n",
       "      <td>2016_1112_1124</td>\n",
       "      <td>0.5</td>\n",
       "      <td>2016</td>\n",
       "      <td>1112</td>\n",
       "      <td>1124</td>\n",
       "    </tr>\n",
       "    <tr>\n",
       "      <th>3</th>\n",
       "      <td>2016_1112_1138</td>\n",
       "      <td>0.5</td>\n",
       "      <td>2016</td>\n",
       "      <td>1112</td>\n",
       "      <td>1138</td>\n",
       "    </tr>\n",
       "    <tr>\n",
       "      <th>4</th>\n",
       "      <td>2016_1112_1139</td>\n",
       "      <td>0.5</td>\n",
       "      <td>2016</td>\n",
       "      <td>1112</td>\n",
       "      <td>1139</td>\n",
       "    </tr>\n",
       "  </tbody>\n",
       "</table>\n",
       "</div>"
      ],
      "text/plain": [
       "               ID  Pred  Season  T1_TeamID  T2_TeamID\n",
       "0  2016_1112_1114   0.5    2016       1112       1114\n",
       "1  2016_1112_1122   0.5    2016       1112       1122\n",
       "2  2016_1112_1124   0.5    2016       1112       1124\n",
       "3  2016_1112_1138   0.5    2016       1112       1138\n",
       "4  2016_1112_1139   0.5    2016       1112       1139"
      ]
     },
     "execution_count": 34,
     "metadata": {},
     "output_type": "execute_result"
    }
   ],
   "source": [
    "sub[\"Season\"] = sub[\"ID\"].apply(lambda x: x[0:4]).astype(int)\n",
    "sub[\"T1_TeamID\"] = sub[\"ID\"].apply(lambda x: x[5:9]).astype(int)\n",
    "sub[\"T2_TeamID\"] = sub[\"ID\"].apply(lambda x: x[10:14]).astype(int)\n",
    "sub.head()"
   ]
  },
  {
   "cell_type": "code",
   "execution_count": 35,
   "metadata": {},
   "outputs": [
    {
     "data": {
      "text/plain": [
       "(11390, 5)"
      ]
     },
     "execution_count": 35,
     "metadata": {},
     "output_type": "execute_result"
    }
   ],
   "source": [
    "sub.shape"
   ]
  },
  {
   "cell_type": "code",
   "execution_count": 36,
   "metadata": {},
   "outputs": [],
   "source": [
    "avg_stats = df_avg_stats.copy()\n",
    "avg_stats.columns = [x.replace('T1_','') for x in list(avg_stats.columns)]"
   ]
  },
  {
   "cell_type": "code",
   "execution_count": 37,
   "metadata": {},
   "outputs": [
    {
     "data": {
      "text/plain": [
       "Index(['Season', 'TeamID', 'FGM', 'FGA', 'FGM3', 'FGA3', 'FTM', 'FTA', 'OR',\n",
       "       'DR', 'Ast', 'TO', 'Stl', 'Blk', 'PF'],\n",
       "      dtype='object')"
      ]
     },
     "execution_count": 37,
     "metadata": {},
     "output_type": "execute_result"
    }
   ],
   "source": [
    "avg_stats.columns"
   ]
  },
  {
   "cell_type": "code",
   "execution_count": 38,
   "metadata": {},
   "outputs": [],
   "source": [
    "sub = pd.merge(\n",
    "    sub, \n",
    "    seeds, \n",
    "    how='left', \n",
    "    left_on=['Season', 'T1_TeamID'], \n",
    "    right_on=['Season', 'TeamID']\n",
    ").drop('TeamID', axis=1).rename(columns={'Seed': 'T1_Seed'})\n",
    "\n",
    "sub = pd.merge(\n",
    "    sub, \n",
    "    seeds, \n",
    "    how='left', \n",
    "    left_on=['Season', 'T2_TeamID'], \n",
    "    right_on=['Season', 'TeamID']\n",
    ").drop('TeamID', axis=1).rename(columns={'Seed': 'T2_Seed'})\n",
    "\n",
    "def treat_seed(seed):\n",
    "    return int(seed[1:3])\n",
    "\n",
    "sub['T1_Seed'] = sub['T1_Seed'].apply(treat_seed)\n",
    "sub['T2_Seed'] = sub['T2_Seed'].apply(treat_seed)\n",
    "\n",
    "sub = pd.merge(sub,\n",
    "df_features_season,\n",
    "how = 'left',\n",
    "left_on=['Season','T1_TeamID'],\n",
    "right_on = ['Season','TeamID'],\n",
    ").rename(columns = {'WinRatio' : 'T1_winRatio' , 'GapAvg' : 'T1_GapAvg' } ).drop('TeamID',axis=1)\n",
    "\n",
    "sub = pd.merge(sub,\n",
    "df_features_season,\n",
    "how = 'left',\n",
    "left_on=['Season','T2_TeamID'],\n",
    "right_on = ['Season','TeamID'],\n",
    ").rename(columns = {'WinRatio' : 'T2_winRatio' , 'GapAvg' : 'T2_GapAvg' } ).drop('TeamID',axis=1)\n",
    "\n",
    "sub = pd.merge(\n",
    "   sub,\n",
    "     avg_ranking,\n",
    "     how='left',\n",
    "     left_on=['Season', 'T1_TeamID'],\n",
    "     right_on=['Season', 'TeamID']\n",
    " ).drop('TeamID', axis=1).rename(columns={'OrdinalRank': 'T1_OrdinalRank'})\n",
    "\n",
    "sub = pd.merge(\n",
    "   sub,\n",
    "     avg_ranking,\n",
    "     how='left',\n",
    "     left_on=['Season', 'T2_TeamID'],\n",
    "     right_on=['Season', 'TeamID']\n",
    " ).drop('TeamID', axis=1).rename(columns={'OrdinalRank': 'T2_OrdinalRank'})\n",
    "\n",
    "sub = pd.merge(sub,\n",
    "avg_stats,\n",
    "how = 'left',\n",
    "left_on=['Season','T1_TeamID'],\n",
    "right_on = ['Season','TeamID']\n",
    ").drop('TeamID',axis=1).rename(columns= {'FGM' : 'T1_AvgFGM',\t'FGA' : 'T1_AvgFGA',\t'FGM3' : 'T1_AvgFGM3', 'FGA3':'T1_AvgFGA3',\t'FTM':'T1_AvgFTM',\t'FTA':'T1_AvgFTA'\t,'OR':'T1_AvgOR',\t'DR':'T1_AvgDR',\t'Ast':'T1_AvgAst',\t'TO':'T1_AvgTO',\t'Stl':'T1_AvgStl',\t'Blk':'T1_AvgBlk',\t'PF':'T1_AvgPF' })\n",
    "\n",
    "sub = pd.merge(sub,\n",
    "avg_stats,\n",
    "how = 'left',\n",
    "left_on=['Season','T2_TeamID'],\n",
    "right_on = ['Season','TeamID'],\n",
    ").drop('TeamID',axis=1).rename(columns = {'FGM' : 'T2_AvgFGM',\t'FGA' : 'T2_AvgFGA',\t'FGM3' : 'T2_AvgFGM3', 'FGA3':'T2_AvgFGA3',\t'FTM':'T2_AvgFTM',\t'FTA':'T2_AvgFTA'\t,'OR':'T2_AvgOR',\t'DR':'T2_AvgDR',\t'Ast':'T2_AvgAst',\t'TO':'T2_AvgTO',\t'Stl':'T2_AvgStl',\t'Blk':'T2_AvgBlk',\t'PF':'T2_AvgPF' } )\n"
   ]
  },
  {
   "cell_type": "code",
   "execution_count": 39,
   "metadata": {},
   "outputs": [],
   "source": [
    "sub['SeedDiff'] = sub['T1_Seed'] - sub['T2_Seed']\n",
    "sub['WinRatioDiff'] = sub['T1_winRatio'] - sub['T2_winRatio']\n",
    "sub['GapAvgDiff'] = sub['T1_GapAvg'] - sub['T2_GapAvg']\n",
    "sub['OrdinalRankDiff'] = sub['T1_OrdinalRank'] - sub['T2_OrdinalRank']"
   ]
  },
  {
   "cell_type": "code",
   "execution_count": 40,
   "metadata": {},
   "outputs": [
    {
     "data": {
      "text/plain": [
       "Index(['ID', 'Pred', 'Season', 'T1_TeamID', 'T2_TeamID', 'T1_Seed', 'T2_Seed',\n",
       "       'T1_winRatio', 'T1_GapAvg', 'T2_winRatio', 'T2_GapAvg',\n",
       "       'T1_OrdinalRank', 'T2_OrdinalRank', 'T1_AvgFGM', 'T1_AvgFGA',\n",
       "       'T1_AvgFGM3', 'T1_AvgFGA3', 'T1_AvgFTM', 'T1_AvgFTA', 'T1_AvgOR',\n",
       "       'T1_AvgDR', 'T1_AvgAst', 'T1_AvgTO', 'T1_AvgStl', 'T1_AvgBlk',\n",
       "       'T1_AvgPF', 'T2_AvgFGM', 'T2_AvgFGA', 'T2_AvgFGM3', 'T2_AvgFGA3',\n",
       "       'T2_AvgFTM', 'T2_AvgFTA', 'T2_AvgOR', 'T2_AvgDR', 'T2_AvgAst',\n",
       "       'T2_AvgTO', 'T2_AvgStl', 'T2_AvgBlk', 'T2_AvgPF', 'SeedDiff',\n",
       "       'WinRatioDiff', 'GapAvgDiff', 'OrdinalRankDiff'],\n",
       "      dtype='object')"
      ]
     },
     "execution_count": 40,
     "metadata": {},
     "output_type": "execute_result"
    }
   ],
   "source": [
    "sub.columns"
   ]
  },
  {
   "cell_type": "code",
   "execution_count": 41,
   "metadata": {},
   "outputs": [],
   "source": [
    "features = [\n",
    "    'T1_winRatio', 'T1_GapAvg', 'T2_winRatio',\n",
    "       'T2_GapAvg', 'T1_AvgFGM',\n",
    "       'T1_AvgFGA', 'T1_AvgFGM3', 'T1_AvgFGA3', 'T1_AvgFTM', 'T1_AvgFTA',\n",
    "       'T1_AvgOR', 'T1_AvgDR', 'T1_AvgAst', 'T1_AvgTO', 'T1_AvgStl',\n",
    "       'T1_AvgBlk', 'T1_AvgPF', 'T2_AvgFGM', 'T2_AvgFGA', 'T2_AvgFGM3',\n",
    "       'T2_AvgFGA3', 'T2_AvgFTM', 'T2_AvgFTA', 'T2_AvgOR', 'T2_AvgDR',\n",
    "       'T2_AvgAst', 'T2_AvgTO', 'T2_AvgStl', 'T2_AvgBlk', 'T2_AvgPF',\n",
    "       'SeedDiff', 'WinRatioDiff', 'GapAvgDiff', 'OrdinalRankDiff']"
   ]
  },
  {
   "cell_type": "code",
   "execution_count": 42,
   "metadata": {},
   "outputs": [],
   "source": [
    "Xsub = sub[features]\n",
    "Ysub = RandomForest.predict_proba(Xsub)\n",
    "sub['Pred'] = Ysub\n"
   ]
  },
  {
   "cell_type": "code",
   "execution_count": 43,
   "metadata": {},
   "outputs": [],
   "source": [
    "sub[['ID','Pred']].to_csv(\"finalsubmission_RandomForest.csv\", index = None)"
   ]
  },
  {
   "cell_type": "code",
   "execution_count": 60,
   "metadata": {},
   "outputs": [
    {
     "name": "stdout",
     "output_type": "stream",
     "text": [
      "Fitting 3 folds for each of 4 candidates, totalling 12 fits\n"
     ]
    },
    {
     "data": {
      "text/plain": [
       "{'bootstrap': True, 'max_depth': 10, 'n_estimators': 100}"
      ]
     },
     "execution_count": 60,
     "metadata": {},
     "output_type": "execute_result"
    }
   ],
   "source": [
    "'''from sklearn.model_selection import GridSearchCV\n",
    "rf = RandomForestClassifier()\n",
    "# Find the best parameters for the model\n",
    "parameters = {\n",
    "    'max_depth': [5,10],\n",
    "    'n_estimators': [10,100],\n",
    "    'bootstrap' : [True] , \n",
    "}\n",
    "gridforest = GridSearchCV(rf, parameters, cv = 3, n_jobs = 1, verbose = 1)\n",
    "gridforest.fit(X_train, y_train)\n",
    "gridforest.best_params_'''"
   ]
  },
  {
   "cell_type": "code",
   "execution_count": 62,
   "metadata": {},
   "outputs": [
    {
     "name": "stdout",
     "output_type": "stream",
     "text": [
      "LogLoss : 0.52\n"
     ]
    }
   ],
   "source": [
    "'''# Log Loss\n",
    "# Import library for metrics\n",
    "from sklearn.metrics import log_loss\n",
    "\n",
    "\n",
    "log_loss = log_loss(y_test.values,rf.predict_proba(X_test))\n",
    "\n",
    "print('LogLoss :', round(log_loss,2) )'''"
   ]
  },
  {
   "cell_type": "code",
   "execution_count": 233,
   "metadata": {},
   "outputs": [],
   "source": [
    "'''def imp_df(column_names, importances):\n",
    "     df = pd.DataFrame({'feature':column_names, 'feature_importance': importances}).sort_values('feature_importance', ascending = False).reset_index(drop = True)\n",
    "     return(df)'''"
   ]
  },
  {
   "cell_type": "code",
   "execution_count": 234,
   "metadata": {},
   "outputs": [
    {
     "name": "stdout",
     "output_type": "stream",
     "text": [
      "            feature  feature_importance\n",
      "0   OrdinalRankDiff            0.002298\n",
      "1        T2_Avg_Stl            0.001482\n",
      "2        T1_Avg_Blk            0.000678\n",
      "3    T2_OrdinalRank            0.000614\n",
      "4    T1_OrdinalRank            0.000540\n",
      "5         T1_AvgFGA            0.000529\n",
      "6        T2_avg_Ast            0.000529\n",
      "7        T1_avg_Ast            0.000529\n",
      "8        T1_Avg_Stl            0.000487\n",
      "9        GapAvgDiff            0.000476\n",
      "10        T2_AvgFGM            0.000455\n",
      "11       T2_Avg_Blk            0.000413\n",
      "12        T1_AvgFGM            0.000381\n",
      "13      T2_winRatio            0.000275\n",
      "14        T2_GapAvg            0.000265\n",
      "15        T2_AvgFGA            0.000244\n",
      "16      T1_winRatio            0.000191\n",
      "17          T1_Seed            0.000169\n",
      "18        T1_GapAvg            0.000106\n",
      "19        T1_Avg_DR            0.000021\n",
      "20          T2_Seed            0.000000\n",
      "21       T1_Avg_FTA            0.000000\n",
      "22       T1_AvgFGM3            0.000000\n",
      "23     WinRatioDiff            0.000000\n",
      "24         SeedDiff            0.000000\n",
      "25        T2_Avg_PF            0.000000\n",
      "26      T1_Avg_FGA3            0.000000\n",
      "27       T1_Avg_FTM            0.000000\n",
      "28        T2_Avg_TO            0.000000\n",
      "29        T2_Avg_DR            0.000000\n",
      "30        T1_Avg_TO            0.000000\n",
      "31        T2_Avg_OR            0.000000\n",
      "32       T2_Avg_FTA            0.000000\n",
      "33       T2_Avg_FTM            0.000000\n",
      "34      T2_Avg_FGA3            0.000000\n",
      "35       T2_AvgFGM3            0.000000\n",
      "36        T1_Avg_OR            0.000000\n",
      "37        T1_Avg_PF            0.000000\n"
     ]
    }
   ],
   "source": [
    "'''from eli5.sklearn import PermutationImportance\n",
    "\n",
    "\n",
    "perm = PermutationImportance(rf, cv = None, refit = False, n_iter = 50).fit(X_train, y_train)\n",
    "perm_imp_eli5 = imp_df(X_train.columns, perm.feature_importances_)\n",
    "\n",
    "print(perm_imp_eli5)'''"
   ]
  }
 ],
 "metadata": {
  "interpreter": {
   "hash": "e41d4bcd5619c314fc23c9d1a99db24aef3cc16a874b6f4f3475895b79aeb94d"
  },
  "kernelspec": {
   "display_name": "Python 3.9.10 ('base')",
   "language": "python",
   "name": "python3"
  },
  "language_info": {
   "codemirror_mode": {
    "name": "ipython",
    "version": 3
   },
   "file_extension": ".py",
   "mimetype": "text/x-python",
   "name": "python",
   "nbconvert_exporter": "python",
   "pygments_lexer": "ipython3",
   "version": "3.9.10"
  },
  "orig_nbformat": 4
 },
 "nbformat": 4,
 "nbformat_minor": 2
}
